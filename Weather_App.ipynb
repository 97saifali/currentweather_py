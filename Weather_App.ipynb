{
 "cells": [
  {
   "cell_type": "code",
   "execution_count": 7,
   "metadata": {},
   "outputs": [
    {
     "name": "stdout",
     "output_type": "stream",
     "text": [
      "Weather :  Cloudy\n",
      "Temperature:  -2.63 celsius\n"
     ]
    }
   ],
   "source": [
    "#Weather fetcher\n",
    "import requests\n",
    "API_KEY = \"62d4d0db6773ec3e5372e499f9029eff\"\n",
    "BASE_URL = \"http://api.openweathermap.org/data/2.5/weather\"\n",
    "\n",
    "city = input(\"Enter a city name : \")\n",
    "request_url = f\"{BASE_URL}?appid={API_KEY}&q={city}\"\n",
    "response = requests.get(request_url)\n",
    "\n",
    "if response.status_code == 200:\n",
    "    data = response.json()\n",
    "    weather = data['weather'][0]['main']\n",
    "    if weather == \"Clouds\":\n",
    "        print(\"Weather : \", \"Cloudy\")\n",
    "    else:\n",
    "        print(\"Weather : \", weather)\n",
    "    temp = round(data['main']['temp']-273.15, 2)\n",
    "    print(\"Temperature: \", temp, 'celsius')\n",
    "    \n",
    "else:\n",
    "    print(\"ERROR\")\n"
   ]
  },
  {
   "cell_type": "code",
   "execution_count": null,
   "metadata": {},
   "outputs": [],
   "source": [
    "n"
   ]
  }
 ],
 "metadata": {
  "interpreter": {
   "hash": "aee8b7b246df8f9039afb4144a1f6fd8d2ca17a180786b69acc140d282b71a49"
  },
  "kernelspec": {
   "display_name": "Python 3.10.2 64-bit",
   "language": "python",
   "name": "python3"
  },
  "language_info": {
   "codemirror_mode": {
    "name": "ipython",
    "version": 3
   },
   "file_extension": ".py",
   "mimetype": "text/x-python",
   "name": "python",
   "nbconvert_exporter": "python",
   "pygments_lexer": "ipython3",
   "version": "3.10.2"
  },
  "orig_nbformat": 4
 },
 "nbformat": 4,
 "nbformat_minor": 2
}
